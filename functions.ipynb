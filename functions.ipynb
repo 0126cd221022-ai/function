{
  "nbformat": 4,
  "nbformat_minor": 0,
  "metadata": {
    "colab": {
      "provenance": []
    },
    "kernelspec": {
      "name": "python3",
      "display_name": "Python 3"
    },
    "language_info": {
      "name": "python"
    }
  },
  "cells": [
    {
      "cell_type": "markdown",
      "source": [
        "Q1. What is Python, and why is it popular\n",
        "A: A high-level scripting tool. Popular since it’s readable, cross-platform, full of libraries, and supports quick prototyping.\n",
        "\n",
        "Q2. What is an interpreter in Python\n",
        "A: The engine that reads code line-by-line and executes (not compiled into machine code fully).\n",
        "\n",
        "Q3. What are pre-defined keywords in Python\n",
        "A: Reserved tokens like if, else, for, etc. Already taken by language → not usable as custom names.\n",
        "\n",
        "Q4. Can keywords be used as variable names\n",
        "A: Nope. Try for=5 and syntax explodes.\n",
        "\n",
        "Q5. What is mutability in Python\n",
        "A: Whether the object can be reshaped inside memory without re-allocating.\n",
        "\n",
        "Q6. Why are lists mutable, but tuples are immutable\n",
        "A: Lists = designed as dynamic arrays (change allowed). Tuples = locked to maintain constancy/hashability.\n",
        "\n",
        "Q7. What is the difference between == and is operators in Python\n",
        "A: == → value equality.\n",
        "is → identity check (same memory ref).\n",
        "\n",
        "Q8. What are logical operators in Python\n",
        "A: and, or, not. Used for boolean juggling.\n",
        "\n",
        "Q9. What is type casting in Python\n",
        "A: Converting one type to another (e.g. str→int).\n",
        "\n",
        "Q10. What is the difference between implicit and explicit type casting\n",
        "A: Implicit → auto by Python (int+float → float).\n",
        "Explicit → manual via functions (int(\"5\")).\n",
        "\n",
        "Q11. What is the purpose of conditional statements in Python\n",
        "A: Flow control → branch program paths.\n",
        "\n",
        "Q12. How does the elif statement work\n",
        "A: Checked sequentially after an if, runs first true branch, skips rest.\n",
        "\n",
        "Q13. What is the difference between for and while loops\n",
        "A: for = iterate through sequence/range.\n",
        "while = runs until condition breaks.\n",
        "\n",
        "Q14. Describe a scenario where a while loop is more suitable than a for loop\n",
        "A: Unknown iterations, like keep asking user input until \"quit\" typed."
      ],
      "metadata": {
        "id": "M1Y8jxMqAhee"
      }
    },
    {
      "cell_type": "code",
      "source": [
        "# Q.1. Print \"Hello, World!\"\n",
        "\n",
        "print(\"Hello, World!\")"
      ],
      "metadata": {
        "colab": {
          "base_uri": "https://localhost:8080/"
        },
        "id": "SAE2--0PAt16",
        "outputId": "8e42e7b1-31ec-4fa0-f768-8ac745ce8292"
      },
      "execution_count": 1,
      "outputs": [
        {
          "output_type": "stream",
          "name": "stdout",
          "text": [
            "Hello, World!\n"
          ]
        }
      ]
    },
    {
      "cell_type": "code",
      "source": [
        "# Q.1. Q2. Display your name + age\n",
        "\n",
        "print(\"Name: Anurag\")\n",
        "print(\"Age: 20\")\n"
      ],
      "metadata": {
        "colab": {
          "base_uri": "https://localhost:8080/"
        },
        "id": "JhXQuY4JBj9I",
        "outputId": "f85e29c7-5004-45b7-f0fc-0ea50359b9f2"
      },
      "execution_count": 2,
      "outputs": [
        {
          "output_type": "stream",
          "name": "stdout",
          "text": [
            "Name: Anurag\n",
            "Age: 20\n"
          ]
        }
      ]
    },
    {
      "cell_type": "code",
      "source": [
        "# Print all keywords using keyword lib\n",
        "\n",
        "import keyword;print(keyword.kwlist)\n"
      ],
      "metadata": {
        "colab": {
          "base_uri": "https://localhost:8080/"
        },
        "id": "OLSsycLjBw8b",
        "outputId": "82e3548a-2c1e-4866-bd9d-2b6d1fdab86a"
      },
      "execution_count": 3,
      "outputs": [
        {
          "output_type": "stream",
          "name": "stdout",
          "text": [
            "['False', 'None', 'True', 'and', 'as', 'assert', 'async', 'await', 'break', 'class', 'continue', 'def', 'del', 'elif', 'else', 'except', 'finally', 'for', 'from', 'global', 'if', 'import', 'in', 'is', 'lambda', 'nonlocal', 'not', 'or', 'pass', 'raise', 'return', 'try', 'while', 'with', 'yield']\n"
          ]
        }
      ]
    },
    {
      "cell_type": "code",
      "source": [
        "# Check if a word is keyword\n",
        "\n",
        "import keyword;w=\"for\";print(keyword.iskeyword(w))\n"
      ],
      "metadata": {
        "colab": {
          "base_uri": "https://localhost:8080/"
        },
        "id": "-Btr0EZRCVt0",
        "outputId": "ce0a1abf-a2b1-46d6-8a92-fcad7dd60163"
      },
      "execution_count": 4,
      "outputs": [
        {
          "output_type": "stream",
          "name": "stdout",
          "text": [
            "True\n"
          ]
        }
      ]
    },
    {
      "cell_type": "code",
      "source": [
        "#Create list & tuple, show diff mutability\n",
        "\n",
        "# List (mutable)\n",
        "my_list = [1, 2, 3]\n",
        "my_list[0] = 100\n",
        "print(\"List after change:\", my_list)\n",
        "\n",
        "# Tuple (immutable)\n",
        "my_tuple = (1, 2, 3)\n",
        "print(\"Tuple cannot be changed:\", my_tuple)\n"
      ],
      "metadata": {
        "colab": {
          "base_uri": "https://localhost:8080/"
        },
        "id": "LnLpwhi3Cfo9",
        "outputId": "1e60e858-5c25-458e-8a4c-b980eabd48c8"
      },
      "execution_count": 5,
      "outputs": [
        {
          "output_type": "stream",
          "name": "stdout",
          "text": [
            "List after change: [100, 2, 3]\n",
            "Tuple cannot be changed: (1, 2, 3)\n"
          ]
        }
      ]
    },
    {
      "cell_type": "code",
      "source": [
        "# Mutable vs Immutable arguments\n",
        "\n",
        "def test(a, b):\n",
        "    a = a + 1\n",
        "    b[0] = b[0] + 1\n",
        "    print(\"Inside function:\", a, b)\n",
        "\n",
        "x = 10\n",
        "y = [10]\n",
        "test(x, y)\n",
        "print(\"Outside function:\", x, y)\n"
      ],
      "metadata": {
        "colab": {
          "base_uri": "https://localhost:8080/"
        },
        "id": "rEXrFGWJCr4i",
        "outputId": "6fa26fe6-b47d-4e91-c484-1a33ede7cd3a"
      },
      "execution_count": 6,
      "outputs": [
        {
          "output_type": "stream",
          "name": "stdout",
          "text": [
            "Inside function: 11 [11]\n",
            "Outside function: 10 [11]\n"
          ]
        }
      ]
    },
    {
      "cell_type": "code",
      "source": [
        "# Basic arithmetic on two numbers\n",
        "\n",
        "a = int(input(\"Enter first number: \"))\n",
        "b = int(input(\"Enter second number: \"))\n",
        "\n",
        "print(\"Sum:\", a + b)\n",
        "print(\"Difference:\", a - b)\n",
        "print(\"Product:\", a * b)\n",
        "print(\"Quotient:\", a / b)\n"
      ],
      "metadata": {
        "colab": {
          "base_uri": "https://localhost:8080/"
        },
        "id": "mmHagQu5C51b",
        "outputId": "aecf22a6-9d55-4841-cfe1-331e348e3312"
      },
      "execution_count": 7,
      "outputs": [
        {
          "output_type": "stream",
          "name": "stdout",
          "text": [
            "Enter first number: 2\n",
            "Enter second number: 5\n",
            "Sum: 7\n",
            "Difference: -3\n",
            "Product: 10\n",
            "Quotient: 0.4\n"
          ]
        }
      ]
    },
    {
      "cell_type": "code",
      "source": [
        "# Convert input string to int, float, bool\n",
        "\n",
        "s = input(\"Enter a number: \")\n",
        "print(\"As integer:\", int(s))\n",
        "print(\"As float:\", float(s))\n",
        "print(\"As boolean:\", bool(s))\n"
      ],
      "metadata": {
        "colab": {
          "base_uri": "https://localhost:8080/"
        },
        "id": "AcD8Y6x1DFVE",
        "outputId": "933561b6-c535-4898-d17d-51cadcbc2f73"
      },
      "execution_count": 8,
      "outputs": [
        {
          "output_type": "stream",
          "name": "stdout",
          "text": [
            "Enter a number: 4\n",
            "As integer: 4\n",
            "As float: 4.0\n",
            "As boolean: True\n"
          ]
        }
      ]
    },
    {
      "cell_type": "code",
      "source": [
        "# Type casting list elements\n",
        "\n",
        "nums = [\"10\", \"20\", \"30\"]\n",
        "nums_int = [int(n) for n in nums]\n",
        "print(nums_int)\n"
      ],
      "metadata": {
        "colab": {
          "base_uri": "https://localhost:8080/"
        },
        "id": "QVfdPqpaDPF5",
        "outputId": "619f9233-a6ff-419a-d8be-1d30dc373b54"
      },
      "execution_count": 9,
      "outputs": [
        {
          "output_type": "stream",
          "name": "stdout",
          "text": [
            "[10, 20, 30]\n"
          ]
        }
      ]
    },
    {
      "cell_type": "code",
      "source": [
        "# Check if number is positive, negative or zero\n",
        "\n",
        "n = int(input(\"Enter a number: \"))\n",
        "if n > 0:\n",
        "    print(\"Positive\")\n",
        "elif n < 0:\n",
        "    print(\"Negative\")\n",
        "else:\n",
        "    print(\"Zero\")\n"
      ],
      "metadata": {
        "colab": {
          "base_uri": "https://localhost:8080/"
        },
        "id": "FeRqHMioDV__",
        "outputId": "d25b7f51-501b-4b7d-bbc0-db03f1a4c72e"
      },
      "execution_count": 10,
      "outputs": [
        {
          "output_type": "stream",
          "name": "stdout",
          "text": [
            "Enter a number: 5\n",
            "Positive\n"
          ]
        }
      ]
    },
    {
      "cell_type": "code",
      "source": [
        "# Print numbers 1 to 10 with for loop\n",
        "\n",
        "for i in range(1, 11):\n",
        "    print(i)\n"
      ],
      "metadata": {
        "colab": {
          "base_uri": "https://localhost:8080/"
        },
        "id": "o-JeApLBDdSC",
        "outputId": "e71d11ab-d4c1-4148-b006-a8d505365c88"
      },
      "execution_count": 11,
      "outputs": [
        {
          "output_type": "stream",
          "name": "stdout",
          "text": [
            "1\n",
            "2\n",
            "3\n",
            "4\n",
            "5\n",
            "6\n",
            "7\n",
            "8\n",
            "9\n",
            "10\n"
          ]
        }
      ]
    },
    {
      "cell_type": "code",
      "source": [
        "# Sum of even numbers from 1 to 50\n",
        "\n",
        "total = 0\n",
        "for i in range(1, 51):\n",
        "    if i % 2 == 0:\n",
        "        total += i\n",
        "print(\"Sum of evens:\", total)\n"
      ],
      "metadata": {
        "colab": {
          "base_uri": "https://localhost:8080/"
        },
        "id": "ueTbkworDkO5",
        "outputId": "37fc4db8-845f-4b48-97f6-a15ebc61b093"
      },
      "execution_count": 12,
      "outputs": [
        {
          "output_type": "stream",
          "name": "stdout",
          "text": [
            "Sum of evens: 650\n"
          ]
        }
      ]
    },
    {
      "cell_type": "code",
      "source": [
        "# Reverse a string using while loop\n",
        "\n",
        "s = input(\"Enter a string: \")\n",
        "rev = \"\"\n",
        "i = len(s) - 1\n",
        "while i >= 0:\n",
        "    rev += s[i]\n",
        "    i -= 1\n",
        "print(\"Reversed:\", rev)\n"
      ],
      "metadata": {
        "colab": {
          "base_uri": "https://localhost:8080/"
        },
        "id": "gsvLx_-RDqOo",
        "outputId": "cc8ffa62-e956-428d-bbd4-54edb6e68e8a"
      },
      "execution_count": 13,
      "outputs": [
        {
          "output_type": "stream",
          "name": "stdout",
          "text": [
            "Enter a string: Anurag\n",
            "Reversed: garunA\n"
          ]
        }
      ]
    },
    {
      "cell_type": "code",
      "source": [
        "# Factorial using while loop\n",
        "\n",
        "n = int(input(\"Enter a number: \"))\n",
        "fact = 1\n",
        "while n > 0:\n",
        "    fact *= n\n",
        "    n -= 1\n",
        "print(\"Factorial:\", fact)\n"
      ],
      "metadata": {
        "colab": {
          "base_uri": "https://localhost:8080/"
        },
        "id": "7BWl9C86Dz2I",
        "outputId": "08bccc46-af58-47f5-d260-3f107f1d6669"
      },
      "execution_count": 14,
      "outputs": [
        {
          "output_type": "stream",
          "name": "stdout",
          "text": [
            "Enter a number: 4\n",
            "Factorial: 24\n"
          ]
        }
      ]
    },
    {
      "cell_type": "code",
      "source": [],
      "metadata": {
        "id": "lZL4SKcJDWLR"
      },
      "execution_count": null,
      "outputs": []
    }
  ]
}